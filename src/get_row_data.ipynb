{
 "cells": [
  {
   "cell_type": "code",
   "execution_count": 4,
   "id": "a3eea4a1",
   "metadata": {},
   "outputs": [
    {
     "name": "stdout",
     "output_type": "stream",
     "text": [
      "Collecting xmltodict\n",
      "  Downloading xmltodict-0.14.2-py2.py3-none-any.whl.metadata (8.0 kB)\n",
      "Downloading xmltodict-0.14.2-py2.py3-none-any.whl (10.0 kB)\n",
      "Installing collected packages: xmltodict\n",
      "Successfully installed xmltodict-0.14.2\n"
     ]
    }
   ],
   "source": [
    "!pip install xmltodict"
   ]
  },
  {
   "cell_type": "code",
   "execution_count": 2,
   "id": "d1bef8c1",
   "metadata": {},
   "outputs": [
    {
     "name": "stdout",
     "output_type": "stream",
     "text": [
      "정렬 후 CSV 저장 완료: forest_fire_stats_sorted.csv\n"
     ]
    }
   ],
   "source": [
    "import requests\n",
    "import xmltodict\n",
    "import pandas as pd\n",
    "\n",
    "# Pandas 출력 제한 해제\n",
    "pd.set_option('display.max_columns', None)  # 모든 컬럼 표시\n",
    "pd.set_option('display.max_rows', None)     # 모든 행 표시\n",
    "pd.set_option('display.width', None)        # 가로 너비 제한 해제\n",
    "\n",
    "url = 'http://apis.data.go.kr/1400000/forestStusService/getfirestatsservice'\n",
    "params = {\n",
    "    'serviceKey': '8fVOMpTjcCZZNO16zZSRWiPOk8rR+MPs/qqDcvGMUORA4U4K77SWBxIsvu1Ie1bf1Ymf4UfKjhU+bHz16b7rQQ==',\n",
    "    'numOfRows': '5000',\n",
    "    'pageNo': '1',\n",
    "    'searchStDt': '20160101',\n",
    "    'searchEdDt': '20240612',\n",
    "}\n",
    "\n",
    "# API 요청\n",
    "response = requests.get(url, params=params)\n",
    "\n",
    "# XML → dict 변환\n",
    "data_dict = xmltodict.parse(response.content)\n",
    "\n",
    "# 데이터 부분 접근\n",
    "items = data_dict['response']['body']['items']['item']\n",
    "\n",
    "# 단일 dict일 경우 리스트로 변환\n",
    "if isinstance(items, dict):\n",
    "    items = [items]\n",
    "\n",
    "# DataFrame 변환\n",
    "df = pd.DataFrame(items)\n",
    "\n",
    "# startyear를 숫자형으로 변환 후 오름차순 정렬\n",
    "df['startyear'] = pd.to_numeric(df['startyear'], errors='coerce')\n",
    "df = df.sort_values(by='startyear', ascending=True)\n",
    "\n",
    "# CSV로 저장\n",
    "df.to_csv('forest_fire_stats_sorted.csv', index=False, encoding='utf-8-sig')\n",
    "\n",
    "print(\"정렬 후 CSV 저장 완료: forest_fire_stats_sorted.csv\")"
   ]
  },
  {
   "cell_type": "code",
   "execution_count": null,
   "id": "419c2e20",
   "metadata": {},
   "outputs": [],
   "source": []
  }
 ],
 "metadata": {
  "kernelspec": {
   "display_name": "Python 3",
   "language": "python",
   "name": "python3"
  },
  "language_info": {
   "codemirror_mode": {
    "name": "ipython",
    "version": 3
   },
   "file_extension": ".py",
   "mimetype": "text/x-python",
   "name": "python",
   "nbconvert_exporter": "python",
   "pygments_lexer": "ipython3",
   "version": "3.12.3"
  }
 },
 "nbformat": 4,
 "nbformat_minor": 5
}
